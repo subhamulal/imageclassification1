{
  "cells": [
    {
      "cell_type": "markdown",
      "metadata": {
        "id": "view-in-github",
        "colab_type": "text"
      },
      "source": [
        "<a href=\"https://colab.research.google.com/github/subhamulal/imageclassification1/blob/main/Welcome_To_Colab.ipynb\" target=\"_parent\"><img src=\"https://colab.research.google.com/assets/colab-badge.svg\" alt=\"Open In Colab\"/></a>"
      ]
    },
    {
      "cell_type": "code",
      "source": [
        "!mkdir -p ~/.kaggle\n",
        "!mv kaggle.json ~/.kaggle/\n",
        "!chmod 600 ~/.kaggle/kaggle.json"
      ],
      "metadata": {
        "id": "Gh4F1lzhq2gJ"
      },
      "execution_count": 11,
      "outputs": []
    },
    {
      "cell_type": "code",
      "source": [
        "# Step 1: Install Git if needed\n",
        "!apt-get install git\n",
        "\n",
        "# Step 2: Configure Git (Use your GitHub email & name)\n",
        "!git config --global user.email \"your-email@example.com\"\n",
        "!git config --global user.name \"YourGitHubUsername\"\n",
        "\n",
        "# Step 3: Clone your GitHub repository (Run only once)\n",
        "!git clone https://github.com/YourGitHubUsername/YourRepositoryName.git\n",
        "%cd YourRepositoryName\n",
        "\n",
        "# Step 4: Copy the Colab notebook to the repo folder\n",
        "!cp /content/YourNotebook.ipynb /content/YourRepositoryName/\n",
        "\n",
        "# Step 5: Add, commit, and push changes\n",
        "!git add .\n",
        "!git commit -m \"Updated notebook with new code\"\n",
        "!git push origin main  # Change 'main' to your branch if different\n"
      ],
      "metadata": {
        "id": "kZWaLZaT2Qw0",
        "outputId": "256c0f62-8904-4492-99a9-21f50c2d4214",
        "colab": {
          "base_uri": "https://localhost:8080/"
        }
      },
      "execution_count": 9,
      "outputs": [
        {
          "output_type": "stream",
          "name": "stdout",
          "text": [
            "Reading package lists... Done\n",
            "Building dependency tree... Done\n",
            "Reading state information... Done\n",
            "git is already the newest version (1:2.34.1-1ubuntu1.12).\n",
            "0 upgraded, 0 newly installed, 0 to remove and 29 not upgraded.\n",
            "Cloning into 'YourRepositoryName'...\n",
            "fatal: could not read Username for 'https://github.com': No such device or address\n",
            "[Errno 2] No such file or directory: 'YourRepositoryName'\n",
            "/content\n",
            "cp: cannot stat '/content/YourNotebook.ipynb': No such file or directory\n",
            "fatal: not a git repository (or any of the parent directories): .git\n",
            "fatal: not a git repository (or any of the parent directories): .git\n",
            "fatal: not a git repository (or any of the parent directories): .git\n"
          ]
        }
      ]
    }
  ],
  "metadata": {
    "colab": {
      "name": "Welcome To Colab",
      "provenance": [],
      "include_colab_link": true
    },
    "kernelspec": {
      "display_name": "Python 3",
      "name": "python3"
    }
  },
  "nbformat": 4,
  "nbformat_minor": 0
}