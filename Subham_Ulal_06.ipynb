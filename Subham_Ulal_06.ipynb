{
  "cells": [
    {
      "cell_type": "markdown",
      "metadata": {
        "id": "view-in-github",
        "colab_type": "text"
      },
      "source": [
        "<a href=\"https://colab.research.google.com/github/subhamulal/imageclassification1/blob/main/Subham_Ulal_06.ipynb\" target=\"_parent\"><img src=\"https://colab.research.google.com/assets/colab-badge.svg\" alt=\"Open In Colab\"/></a>"
      ]
    },
    {
      "cell_type": "code",
      "execution_count": null,
      "metadata": {
        "colab": {
          "base_uri": "https://localhost:8080/"
        },
        "id": "KijtA-V8c-ZS",
        "outputId": "8bd4d9e6-5989-4586-c0f7-63b8b46fb904"
      },
      "outputs": [
        {
          "output_type": "stream",
          "name": "stdout",
          "text": [
            "Reading package lists... Done\n",
            "Building dependency tree... Done\n",
            "Reading state information... Done\n",
            "unrar is already the newest version (1:6.1.5-1ubuntu0.1).\n",
            "0 upgraded, 0 newly installed, 0 to remove and 30 not upgraded.\n",
            "Requirement already satisfied: rarfile in /usr/local/lib/python3.11/dist-packages (4.2)\n"
          ]
        }
      ],
      "source": [
        "!apt-get install unrar\n",
        "!pip install rarfile\n"
      ]
    },
    {
      "cell_type": "code",
      "execution_count": null,
      "metadata": {
        "id": "Q0z86qIRgE5Y"
      },
      "outputs": [],
      "source": [
        "import rarfile\n",
        "\n",
        "rar_path = \"/content/3_class_tumor.rar\"\n",
        "extract_path = \"/content/extracted\"  # Path where images will be extracted\n",
        "\n",
        "rar = rarfile.RarFile(rar_path)\n",
        "rar.extractall(extract_path)\n"
      ]
    },
    {
      "cell_type": "code",
      "execution_count": null,
      "metadata": {
        "id": "oZo_mgo4hCjO"
      },
      "outputs": [],
      "source": [
        "import tensorflow as tf\n",
        "from tensorflow import keras\n",
        "from tensorflow.keras import layers, models\n",
        "from tensorflow.keras.applications import ResNet50\n",
        "from tensorflow.keras.preprocessing.image import ImageDataGenerator\n",
        "import os"
      ]
    },
    {
      "cell_type": "code",
      "execution_count": null,
      "metadata": {
        "id": "V9VlqR-lhg_m"
      },
      "outputs": [],
      "source": [
        "img_size = (224, 224)\n",
        "batch_size = 32"
      ]
    },
    {
      "cell_type": "code",
      "execution_count": null,
      "metadata": {
        "id": "upZPGRL8iDXg"
      },
      "outputs": [],
      "source": [
        "datagen = ImageDataGenerator(\n",
        "    rescale=1./255,\n",
        "    validation_split=0.2\n",
        ")"
      ]
    },
    {
      "cell_type": "code",
      "execution_count": null,
      "metadata": {
        "colab": {
          "base_uri": "https://localhost:8080/"
        },
        "id": "6jiB5ZZ-im1H",
        "outputId": "387513a0-30a4-4432-dbdc-d27d0017d18c"
      },
      "outputs": [
        {
          "output_type": "stream",
          "name": "stdout",
          "text": [
            "Found 2452 images belonging to 1 classes.\n",
            "Found 612 images belonging to 1 classes.\n"
          ]
        }
      ],
      "source": [
        "train_generator = datagen.flow_from_directory(\n",
        "    extract_path,\n",
        "    target_size=img_size,\n",
        "    batch_size=batch_size,\n",
        "    class_mode='categorical',  # 🔥 Ensures one-hot encoding\n",
        "    subset='training'\n",
        ")\n",
        "\n",
        "val_generator = datagen.flow_from_directory(\n",
        "    extract_path,\n",
        "    target_size=img_size,\n",
        "    batch_size=batch_size,\n",
        "    class_mode='categorical',  # 🔥 Ensures one-hot encoding\n",
        "    subset='validation'\n",
        ")\n"
      ]
    },
    {
      "cell_type": "code",
      "execution_count": null,
      "metadata": {
        "colab": {
          "base_uri": "https://localhost:8080/"
        },
        "id": "YPvEosvFvFIf",
        "outputId": "f4d0c512-2b8a-4cee-8594-375ad14c7ed7"
      },
      "outputs": [
        {
          "output_type": "stream",
          "name": "stdout",
          "text": [
            "Sample label shape: (32, 1)\n",
            "Labels: [[1.]\n",
            " [1.]\n",
            " [1.]\n",
            " [1.]\n",
            " [1.]]\n"
          ]
        }
      ],
      "source": [
        "for images, labels in train_generator:\n",
        "    print(\"Sample label shape:\", labels.shape)\n",
        "    print(\"Labels:\", labels[:5])  # Print first 5 labels\n",
        "    break"
      ]
    },
    {
      "cell_type": "code",
      "execution_count": null,
      "metadata": {
        "id": "yDoyqhfhn6uB",
        "colab": {
          "base_uri": "https://localhost:8080/"
        },
        "outputId": "99467e68-e4eb-4408-e030-f2df5d020461"
      },
      "outputs": [
        {
          "output_type": "stream",
          "name": "stdout",
          "text": [
            "Downloading data from https://storage.googleapis.com/tensorflow/keras-applications/resnet/resnet50_weights_tf_dim_ordering_tf_kernels_notop.h5\n",
            "\u001b[1m94765736/94765736\u001b[0m \u001b[32m━━━━━━━━━━━━━━━━━━━━\u001b[0m\u001b[37m\u001b[0m \u001b[1m0s\u001b[0m 0us/step\n"
          ]
        }
      ],
      "source": [
        "base_model = ResNet50(weights='imagenet', include_top=False, input_shape=(224, 224, 3))\n",
        "base_model.trainable = False"
      ]
    },
    {
      "cell_type": "code",
      "execution_count": null,
      "metadata": {
        "id": "iZSAnCuXoKFy"
      },
      "outputs": [],
      "source": [
        "model = models.Sequential([\n",
        "    base_model,\n",
        "    layers.GlobalAveragePooling2D(),\n",
        "    layers.Dense(256, activation='relu'),\n",
        "    layers.Dropout(0.5),\n",
        "    layers.Dense(3, activation='softmax')  # ✅ Ensure 3 output neurons\n",
        "])"
      ]
    },
    {
      "cell_type": "code",
      "execution_count": null,
      "metadata": {
        "id": "AXEeDjgnoSCi"
      },
      "outputs": [],
      "source": [
        "model.compile(optimizer='adam', loss='sparse_categorical_crossentropy', metrics=['accuracy','f1_score'])\n"
      ]
    },
    {
      "cell_type": "code",
      "execution_count": null,
      "metadata": {
        "colab": {
          "base_uri": "https://localhost:8080/"
        },
        "id": "L5EMVcZkodZ3",
        "outputId": "035719f0-a04f-4182-bfaf-9c34ef9948e5"
      },
      "outputs": [
        {
          "output_type": "stream",
          "name": "stdout",
          "text": [
            "Epoch 1/10\n",
            "\u001b[1m77/77\u001b[0m \u001b[32m━━━━━━━━━━━━━━━━━━━━\u001b[0m\u001b[37m\u001b[0m \u001b[1m8s\u001b[0m 105ms/step - accuracy: 1.0000 - f1_score: 0.3333 - loss: 3.4153e-07 - val_accuracy: 1.0000 - val_f1_score: 0.3333 - val_loss: 0.0000e+00\n",
            "Epoch 2/10\n",
            "\u001b[1m77/77\u001b[0m \u001b[32m━━━━━━━━━━━━━━━━━━━━\u001b[0m\u001b[37m\u001b[0m \u001b[1m8s\u001b[0m 109ms/step - accuracy: 1.0000 - f1_score: 0.3333 - loss: 4.0643e-07 - val_accuracy: 1.0000 - val_f1_score: 0.3333 - val_loss: 0.0000e+00\n",
            "Epoch 3/10\n",
            "\u001b[1m77/77\u001b[0m \u001b[32m━━━━━━━━━━━━━━━━━━━━\u001b[0m\u001b[37m\u001b[0m \u001b[1m9s\u001b[0m 111ms/step - accuracy: 1.0000 - f1_score: 0.3333 - loss: 1.3875e-07 - val_accuracy: 1.0000 - val_f1_score: 0.3333 - val_loss: 0.0000e+00\n",
            "Epoch 4/10\n",
            "\u001b[1m77/77\u001b[0m \u001b[32m━━━━━━━━━━━━━━━━━━━━\u001b[0m\u001b[37m\u001b[0m \u001b[1m8s\u001b[0m 109ms/step - accuracy: 1.0000 - f1_score: 0.3333 - loss: 2.3846e-07 - val_accuracy: 1.0000 - val_f1_score: 0.3333 - val_loss: 0.0000e+00\n",
            "Epoch 5/10\n",
            "\u001b[1m77/77\u001b[0m \u001b[32m━━━━━━━━━━━━━━━━━━━━\u001b[0m\u001b[37m\u001b[0m \u001b[1m9s\u001b[0m 111ms/step - accuracy: 1.0000 - f1_score: 0.3333 - loss: 1.0212e-07 - val_accuracy: 1.0000 - val_f1_score: 0.3333 - val_loss: 0.0000e+00\n",
            "Epoch 6/10\n",
            "\u001b[1m77/77\u001b[0m \u001b[32m━━━━━━━━━━━━━━━━━━━━\u001b[0m\u001b[37m\u001b[0m \u001b[1m9s\u001b[0m 118ms/step - accuracy: 1.0000 - f1_score: 0.3333 - loss: 8.5719e-08 - val_accuracy: 1.0000 - val_f1_score: 0.3333 - val_loss: 0.0000e+00\n",
            "Epoch 7/10\n",
            "\u001b[1m77/77\u001b[0m \u001b[32m━━━━━━━━━━━━━━━━━━━━\u001b[0m\u001b[37m\u001b[0m \u001b[1m8s\u001b[0m 105ms/step - accuracy: 1.0000 - f1_score: 0.3333 - loss: 5.8634e-08 - val_accuracy: 1.0000 - val_f1_score: 0.3333 - val_loss: 0.0000e+00\n",
            "Epoch 8/10\n",
            "\u001b[1m77/77\u001b[0m \u001b[32m━━━━━━━━━━━━━━━━━━━━\u001b[0m\u001b[37m\u001b[0m \u001b[1m8s\u001b[0m 108ms/step - accuracy: 1.0000 - f1_score: 0.3333 - loss: 6.6176e-08 - val_accuracy: 1.0000 - val_f1_score: 0.3333 - val_loss: 0.0000e+00\n",
            "Epoch 9/10\n",
            "\u001b[1m77/77\u001b[0m \u001b[32m━━━━━━━━━━━━━━━━━━━━\u001b[0m\u001b[37m\u001b[0m \u001b[1m8s\u001b[0m 106ms/step - accuracy: 1.0000 - f1_score: 0.3333 - loss: 8.0390e-07 - val_accuracy: 1.0000 - val_f1_score: 0.3333 - val_loss: 0.0000e+00\n",
            "Epoch 10/10\n",
            "\u001b[1m77/77\u001b[0m \u001b[32m━━━━━━━━━━━━━━━━━━━━\u001b[0m\u001b[37m\u001b[0m \u001b[1m9s\u001b[0m 116ms/step - accuracy: 1.0000 - f1_score: 0.3333 - loss: 6.7746e-08 - val_accuracy: 1.0000 - val_f1_score: 0.3333 - val_loss: 0.0000e+00\n"
          ]
        }
      ],
      "source": [
        "history = model.fit(train_generator, epochs=10, validation_data=val_generator)"
      ]
    },
    {
      "cell_type": "code",
      "execution_count": null,
      "metadata": {
        "colab": {
          "base_uri": "https://localhost:8080/"
        },
        "id": "OXtgIXg00o5S",
        "outputId": "d70d28da-28d3-4a14-f906-e7316df603f4"
      },
      "outputs": [
        {
          "output_type": "stream",
          "name": "stderr",
          "text": [
            "WARNING:absl:You are saving your model as an HDF5 file via `model.save()` or `keras.saving.save_model(model)`. This file format is considered legacy. We recommend using instead the native Keras format, e.g. `model.save('my_model.keras')` or `keras.saving.save_model(model, 'my_model.keras')`. \n"
          ]
        },
        {
          "output_type": "stream",
          "name": "stdout",
          "text": [
            "Model saved as brain_tumor_classification.h5\n"
          ]
        }
      ],
      "source": [
        "model.save(\"brain_tumor_classification.h5\")\n",
        "print(\"Model saved as brain_tumor_classification.h5\")"
      ]
    }
  ],
  "metadata": {
    "accelerator": "GPU",
    "colab": {
      "gpuType": "T4",
      "provenance": [],
      "authorship_tag": "ABX9TyOD6JYgQiPAQtLkScvfwU8v",
      "include_colab_link": true
    },
    "kernelspec": {
      "display_name": "Python 3",
      "name": "python3"
    },
    "language_info": {
      "name": "python"
    }
  },
  "nbformat": 4,
  "nbformat_minor": 0
}